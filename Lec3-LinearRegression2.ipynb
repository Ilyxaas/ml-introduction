{
 "cells": [
  {
   "cell_type": "markdown",
   "source": [
    "\n",
    "<a href=\"https://colab.research.google.com/github/OsipovOleg/crash-python-notebooks/blob/master/scientific_computing.ipynb\">\n",
    "  <img src=\"https://colab.research.google.com/assets/colab-badge.svg\" alt=\"Open In Colab\"/>\n",
    "</a>\n"
   ],
   "metadata": {}
  },
  {
   "cell_type": "markdown",
   "source": [
    "# Байесовская регрессия"
   ],
   "metadata": {}
  },
  {
   "cell_type": "markdown",
   "source": [
    "Пусть дана обучающая выборка $\\mathcal{D}$, состоящая из $N$ элементов, которая получена следующим образом: \n",
    "\n",
    "$$\n",
    "y_i = w_0 + x_i w_1 + N(0, \\sigma^2).\n",
    "$$\n",
    "\n",
    "Пусть априорное распределение для каждого из весов является нормальным. \n",
    "\n",
    "1. Получите вид апостериорного распределения $p(w| \\mathcal{D})$.\n",
    "2. Рассмотрите как меняется апостериорное распреление весов в зависимости *от числа объектов*, которые мы используем для обучения модели. \n",
    "- Получите параметры этого распределения. \n",
    "- Постройте плотности распределения весов. \n",
    "- Просемлируйте несколько значений весов из полученного апостериорного распределения и постройте предсказания (линии регересии на некотором интервале).\n",
    "3. Как ведут себя полученные линии при добавлении новых данных. Какие выводы можно сделать. "
   ],
   "metadata": {}
  }
 ],
 "metadata": {
  "orig_nbformat": 4,
  "language_info": {
   "name": "python",
   "version": "3.8.8",
   "mimetype": "text/x-python",
   "codemirror_mode": {
    "name": "ipython",
    "version": 3
   },
   "pygments_lexer": "ipython3",
   "nbconvert_exporter": "python",
   "file_extension": ".py"
  },
  "kernelspec": {
   "name": "python3",
   "display_name": "Python 3.8.8 64-bit ('base': conda)"
  },
  "interpreter": {
   "hash": "7bb4ef3929ba2b3cff5c7c066675259b7e6e26497036bb9e6a9a5ed6dc85a661"
  }
 },
 "nbformat": 4,
 "nbformat_minor": 2
}